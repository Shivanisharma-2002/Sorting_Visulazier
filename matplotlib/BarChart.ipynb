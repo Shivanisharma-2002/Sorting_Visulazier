{
  "nbformat": 4,
  "nbformat_minor": 0,
  "metadata": {
    "colab": {
      "name": "BarChart.ipynb",
      "provenance": [],
      "authorship_tag": "ABX9TyPyV1ippDKBqUOc2phnwT4b",
      "include_colab_link": true
    },
    "kernelspec": {
      "name": "python3",
      "display_name": "Python 3"
    },
    "language_info": {
      "name": "python"
    }
  },
  "cells": [
    {
      "cell_type": "markdown",
      "metadata": {
        "id": "view-in-github",
        "colab_type": "text"
      },
      "source": [
        "<a href=\"https://colab.research.google.com/github/Shivanisharma-2002/Sorting_Visulazier/blob/main/matplotlib/BarChart.ipynb\" target=\"_parent\"><img src=\"https://colab.research.google.com/assets/colab-badge.svg\" alt=\"Open In Colab\"/></a>"
      ]
    },
    {
      "cell_type": "code",
      "execution_count": 1,
      "metadata": {
        "id": "GWghoAUnUsoQ"
      },
      "outputs": [],
      "source": [
        "import matplotlib.pyplot as plt\n",
        "%matplotlib inline\n",
        "import numpy as py\n"
      ]
    },
    {
      "cell_type": "code",
      "source": [
        "company=['GOOGle','AMZN','FAANG','Netflix']\n",
        "revenue=[90,136,180,50]\n",
        "profit=[40,20,2,80]"
      ],
      "metadata": {
        "id": "IoJqOsPeU8po"
      },
      "execution_count": 12,
      "outputs": []
    },
    {
      "cell_type": "code",
      "source": [
        "xpos = py.arange(len(company))\n",
        "xpos"
      ],
      "metadata": {
        "colab": {
          "base_uri": "https://localhost:8080/"
        },
        "id": "V_u1l_1YVkiW",
        "outputId": "b2ce126a-795a-4a8e-986c-bf8bcfd1bdc3"
      },
      "execution_count": 4,
      "outputs": [
        {
          "output_type": "execute_result",
          "data": {
            "text/plain": [
              "array([0, 1, 2, 3])"
            ]
          },
          "metadata": {},
          "execution_count": 4
        }
      ]
    },
    {
      "cell_type": "code",
      "source": [
        "plt.bar(xpos,revenue)"
      ],
      "metadata": {
        "colab": {
          "base_uri": "https://localhost:8080/",
          "height": 283
        },
        "id": "Q39jUWQxVT8S",
        "outputId": "abe55c83-4634-4111-a3d3-3dc49675206c"
      },
      "execution_count": 5,
      "outputs": [
        {
          "output_type": "execute_result",
          "data": {
            "text/plain": [
              "<BarContainer object of 4 artists>"
            ]
          },
          "metadata": {},
          "execution_count": 5
        },
        {
          "output_type": "display_data",
          "data": {
            "text/plain": [
              "<Figure size 432x288 with 1 Axes>"
            ],
            "image/png": "[encoded data removed]"
          },
          "metadata": {
            "needs_background": "light"
          }
        }
      ]
    },
    {
      "cell_type": "code",
      "source": [
        "plt.bar(xpos,revenue, label=\"Revenue\")\n",
        "\n",
        "plt.xticks(xpos,company)\n",
        "plt.ylabel(\"Revenue(Bln)\")\n",
        "plt.title('US Technology Stocks')\n",
        "plt.legend()"
      ],
      "metadata": {
        "colab": {
          "base_uri": "https://localhost:8080/",
          "height": 299
        },
        "id": "rwMY2fquWiv-",
        "outputId": "ed942656-760a-48a3-b0b2-2ee8ee086f02"
      },
      "execution_count": 10,
      "outputs": [
        {
          "output_type": "execute_result",
          "data": {
            "text/plain": [
              "<matplotlib.legend.Legend at 0x7f667560f650>"
            ]
          },
          "metadata": {},
          "execution_count": 10
        },
        {
          "output_type": "display_data",
          "data": {
            "text/plain": [
              "<Figure size 432x288 with 1 Axes>"
            ],
            "image/png": "[encoded data removed]"
          },
          "metadata": {
            "needs_background": "light"
          }
        }
      ]
    },
    {
      "cell_type": "code",
      "source": [
        "plt.bar(xpos-0.2,revenue, width=0.4, label=\"Revenue\")\n",
        "plt.bar(xpos+0.2,profit, width=0.4,label=\"Profit\")\n",
        "\n",
        "plt.xticks(xpos,company)\n",
        "plt.ylabel(\"Revenue(Bln)\")\n",
        "plt.title('US Technology Stocks')\n",
        "plt.legend()"
      ],
      "metadata": {
        "colab": {
          "base_uri": "https://localhost:8080/",
          "height": 299
        },
        "id": "FeixtZW8alXR",
        "outputId": "5aa0ea54-7297-4d5a-921d-c4749030a065"
      },
      "execution_count": 13,
      "outputs": [
        {
          "output_type": "execute_result",
          "data": {
            "text/plain": [
              "<matplotlib.legend.Legend at 0x7f66753c9e50>"
            ]
          },
          "metadata": {},
          "execution_count": 13
        },
        {
          "output_type": "display_data",
          "data": {
            "text/plain": [
              "<Figure size 432x288 with 1 Axes>"
            ],
            "image/png": "[encoded data removed]"
          },
          "metadata": {
            "needs_background": "light"
          }
        }
      ]
    },
    {
      "cell_type": "code",
      "source": [
        "plt.barh(xpos,revenue,label=\"revenue\")\n",
        "plt.ylabel(\"Revenue(Bln)\")\n",
        "plt.yticks(xpos,company)\n",
        "plt.title('US Technolog Stocks')\n",
        "plt.legend()"
      ],
      "metadata": {
        "colab": {
          "base_uri": "https://localhost:8080/",
          "height": 299
        },
        "id": "lM0z9jcRbFaW",
        "outputId": "a92156e5-038a-4ffd-b613-ffbceb494443"
      },
      "execution_count": 16,
      "outputs": [
        {
          "output_type": "execute_result",
          "data": {
            "text/plain": [
              "<matplotlib.legend.Legend at 0x7f6675242150>"
            ]
          },
          "metadata": {},
          "execution_count": 16
        },
        {
          "output_type": "display_data",
          "data": {
            "text/plain": [
              "<Figure size 432x288 with 1 Axes>"
            ],
            "image/png": "[encoded data removed]"
          },
          "metadata": {
            "needs_background": "light"
          }
        }
      ]
    }
  ]
}